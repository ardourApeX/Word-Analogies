{
 "cells": [
  {
   "cell_type": "code",
   "execution_count": 1,
   "metadata": {},
   "outputs": [],
   "source": [
    "import gensim\n",
    "from gensim.models import word2vec\n",
    "from gensim.models import KeyedVectors\n",
    "from sklearn.metrics.pairwise import cosine_similarity"
   ]
  },
  {
   "cell_type": "code",
   "execution_count": 3,
   "metadata": {},
   "outputs": [],
   "source": [
    "import nltk\n",
    "from nltk.corpus import stopwords"
   ]
  },
  {
   "cell_type": "markdown",
   "metadata": {},
   "source": [
    "### Data Preparation"
   ]
  },
  {
   "cell_type": "code",
   "execution_count": 5,
   "metadata": {},
   "outputs": [],
   "source": [
    "def read_data(path):\n",
    "    with open(path, encoding = \"utf8\") as file:\n",
    "        text = file.read()\n",
    "    return text"
   ]
  },
  {
   "cell_type": "code",
   "execution_count": 7,
   "metadata": {},
   "outputs": [],
   "source": [
    "textual_data = read_data(\"./data.txt\")"
   ]
  },
  {
   "cell_type": "code",
   "execution_count": 9,
   "metadata": {},
   "outputs": [
    {
     "name": "stdout",
     "output_type": "stream",
     "text": [
      "Deepika Padukone and Ranveer Singh wedding was one of the biggest Bollywood events that happened in 2018. The Deepika and Ranveer celebrations not only had all of us hooked on to our phones, waiting for what's to come but also gave enough and more reason to believe just how stylish these two are as a couple. From airport looks to reception parties and everything in between here's an entire timeline of Deepika and Ranveer's wedding style file! \n",
      "Not Ambanis, Deepika Ranveer or Priyanka Nick. Man proves his was Wedding of The Year \n",
      "This year was the year of big fat lavish and extravagant weddings. From Isha Ambani and Anand Piramal to Deepika Padukone and Ranveer Singh, from Priyanka Chopra and Nick Jonas to Kapil Sharma and Ginni Chatrath, 2018 saw many grand weddings. But nothing beats this man, who just w on the wedding of The Year award from social media.\n",
      "Priyanka also shared a video featuring Nick Jonas was also celebrating with them \n",
      "The family first celebrated Christmas in London\n",
      "Pictures from Priyanka Chopra and Nick Jonas New Year's celebrations are outstanding. Priyanka Chopra and Nick shared glimpses of the celebration in Verbier, Switzerland. Priyanka Chopra married Nick Jonas in December and after their three wedding receptions - one in New Delhi and two in Mumbai. \n",
      "This year was the year of big fat lavish and extravagant weddings. From Isha Ambani and Anand Piramal to Deepika Padukone and Ranveer Singh, from Priyanka Chopra and Nick Jonas to Kapil Sharma and Ginni Chatrath, 2018 saw many grand weddings. But nothing beats this man, who just won the Wedding of The Year award from social media.\n",
      "Kapil Sharma and Ginni Chatrath's Jaggo night on December 11 was made even more special by their industry friends. Kapil Sharma and Ginni Chatrath are friends for a long time.\n",
      "There, by Virat side was his actress wife Anushka Sharma, who had the pleasure of having an audience with the PM. \n",
      "While the couple rang in the New Year in style, the morning saw Virat dress up in his squad attire and Anushka don a pink Salwar suit.\n",
      "Isha Ambani married Anand Piramal this year.\n"
     ]
    }
   ],
   "source": [
    "print(textual_data)"
   ]
  },
  {
   "cell_type": "markdown",
   "metadata": {},
   "source": [
    "####  Sentence Tokenizaiton"
   ]
  },
  {
   "cell_type": "code",
   "execution_count": 11,
   "metadata": {
    "scrolled": false
   },
   "outputs": [
    {
     "name": "stdout",
     "output_type": "stream",
     "text": [
      "18\n"
     ]
    }
   ],
   "source": [
    "sentences = nltk.sent_tokenize(textual_data)\n",
    "print(len(sentences))"
   ]
  },
  {
   "cell_type": "markdown",
   "metadata": {},
   "source": [
    "#### Word Tokenization"
   ]
  },
  {
   "cell_type": "code",
   "execution_count": null,
   "metadata": {},
   "outputs": [],
   "source": [
    "from nltk"
   ]
  },
  {
   "cell_type": "code",
   "execution_count": 12,
   "metadata": {},
   "outputs": [],
   "source": [
    "list_of_words = []\n",
    "\n",
    "for sentence in sentences:\n",
    "    words = nltk.word_tokenize(sentence)\n",
    "    words = [word.lower() for word in words if len(word) > 3 and word not in ]\n",
    "    list_of_words.append(words)"
   ]
  },
  {
   "cell_type": "code",
   "execution_count": 15,
   "metadata": {},
   "outputs": [
    {
     "data": {
      "text/plain": [
       "18"
      ]
     },
     "execution_count": 15,
     "metadata": {},
     "output_type": "execute_result"
    }
   ],
   "source": [
    "len(list_of_words)"
   ]
  },
  {
   "cell_type": "markdown",
   "metadata": {},
   "source": [
    "### Create Model"
   ]
  },
  {
   "cell_type": "code",
   "execution_count": null,
   "metadata": {},
   "outputs": [],
   "source": []
  },
  {
   "cell_type": "code",
   "execution_count": null,
   "metadata": {},
   "outputs": [],
   "source": []
  },
  {
   "cell_type": "code",
   "execution_count": null,
   "metadata": {},
   "outputs": [],
   "source": []
  }
 ],
 "metadata": {
  "kernelspec": {
   "display_name": "Python 3",
   "language": "python",
   "name": "python3"
  },
  "language_info": {
   "codemirror_mode": {
    "name": "ipython",
    "version": 3
   },
   "file_extension": ".py",
   "mimetype": "text/x-python",
   "name": "python",
   "nbconvert_exporter": "python",
   "pygments_lexer": "ipython3",
   "version": "3.7.0"
  }
 },
 "nbformat": 4,
 "nbformat_minor": 4
}
